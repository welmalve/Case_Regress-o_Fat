{
 "cells": [
  {
   "cell_type": "code",
   "execution_count": 63,
   "id": "2818437b",
   "metadata": {},
   "outputs": [],
   "source": [
    "from selenium import webdriver\n",
    "from selenium.webdriver.firefox.options import Options\n",
    "from webdriver_manager.firefox import GeckoDriverManager\n",
    "\n",
    "from unidecode import unidecode\n",
    "from bs4 import BeautifulSoup\n",
    "import requests\n",
    "import time\n",
    "\n",
    "import pandas as pd\n",
    "import numpy as np"
   ]
  },
  {
   "cell_type": "markdown",
   "id": "8245ccbe",
   "metadata": {},
   "source": [
    "# 1.0. Coletando os dados"
   ]
  },
  {
   "cell_type": "markdown",
   "id": "67c785bb",
   "metadata": {},
   "source": [
    "## 1.1. Selenium -> Clicando e coletando o HTML"
   ]
  },
  {
   "cell_type": "code",
   "execution_count": 64,
   "id": "cd49c7f4",
   "metadata": {},
   "outputs": [
    {
     "name": "stderr",
     "output_type": "stream",
     "text": [
      "\n",
      "\n",
      "====== WebDriver manager ======\n",
      "Current firefox version is 86.0\n",
      "Get LATEST driver version for 86.0\n",
      "Driver [/home/tcbm/.wdm/drivers/geckodriver/linux64/v0.29.1/geckodriver] found in cache\n"
     ]
    }
   ],
   "source": [
    "# determinando a url\n",
    "url = \"https://pt.wikipedia.org/wiki/Regi%C3%B5es_administrativas_da_cidade_do_Rio_de_Janeiro\"\n",
    "\n",
    "# escolhendo o navegador\n",
    "option = Options()\n",
    "option.headless = False\n",
    "driver = webdriver.Firefox(options=option, executable_path=GeckoDriverManager().install() )\n",
    "\n",
    "# abrindo a url\n",
    "driver.get(url)\n",
    "\n",
    "# sleed de 1 segundo\n",
    "time.sleep(1)\n",
    "\n",
    "# clicando no elemento ordenador da tabela\n",
    "driver.find_element_by_xpath(\"//div[@class='mw-parser-output']//table//thead//tr//th\").click()\n",
    "\n",
    "# coletando o html da tabela\n",
    "element = driver.find_element_by_xpath(\"//div[@class='mw-parser-output']//table[@class='sortable wikitable wm-collapse jquery-tablesorter']//tbody\")\n",
    "html_content = element.get_attribute('outerHTML')\n",
    "\n",
    "time.sleep(2)\n",
    "\n",
    "# saindo do navegador\n",
    "driver.quit()"
   ]
  },
  {
   "cell_type": "code",
   "execution_count": 67,
   "id": "8aed2ab1",
   "metadata": {},
   "outputs": [],
   "source": [
    "# Variável com o HTML\n",
    "soup = BeautifulSoup(html_content, 'html.parser')"
   ]
  },
  {
   "cell_type": "markdown",
   "id": "3804641f",
   "metadata": {},
   "source": [
    "## 1.2. Separando - Subprefeitura / Regiao Adm "
   ]
  },
  {
   "cell_type": "code",
   "execution_count": 69,
   "id": "359d9dc1",
   "metadata": {},
   "outputs": [],
   "source": [
    "teste_dict = {}\n",
    "\n",
    "# lista de links das cidades\n",
    "list_links = []\n",
    "\n",
    "# lista de linhas\n",
    "linhas = soup.find_all('tr')\n",
    "\n",
    "# passando por cada linha\n",
    "for key, value in enumerate(linhas):    \n",
    "    list_infos = [] # lista de valores\n",
    "    \n",
    "    #lista de colunas da linha\n",
    "    setor = value.find_all('td')\n",
    "    \n",
    "    # passando por coluna\n",
    "    for key, value_2 in enumerate(setor):\n",
    "        \n",
    "        # buscando as cidades\n",
    "        cidades = value_2.find_all('a')\n",
    "        if key == 3: # se a coluna for a das cidades\n",
    "            list_cidades = [] \n",
    "            \n",
    "            # passando por cidade\n",
    "            for value_3 in cidades:\n",
    "                # salvando as cidades em uma lista\n",
    "                list_cidades.append(value_3.get_text())\n",
    "                list_links.append(value_3.get('href'))\n",
    "                \n",
    "        list_infos.append(value_2.get_text()) # salvando todas as informacoes em uma lista\n",
    "        \n",
    "    # passando as informacoes para cada cidade\n",
    "    for value_4 in list_cidades:\n",
    "        teste_dict[value_4] = list_infos"
   ]
  },
  {
   "cell_type": "code",
   "execution_count": 70,
   "id": "4f0259e1",
   "metadata": {},
   "outputs": [],
   "source": [
    "# Criando o DataFrame final\n",
    "df_sub = pd.DataFrame(teste_dict).T.reset_index()\n",
    "df_sub.drop([1, 3, 4], axis=1, inplace=True)\n",
    "df_sub.columns = ['nome', 'subprefeitura', 'regiao_adm']"
   ]
  },
  {
   "cell_type": "code",
   "execution_count": 71,
   "id": "68a2077e",
   "metadata": {},
   "outputs": [
    {
     "data": {
      "text/html": [
       "<div>\n",
       "<style scoped>\n",
       "    .dataframe tbody tr th:only-of-type {\n",
       "        vertical-align: middle;\n",
       "    }\n",
       "\n",
       "    .dataframe tbody tr th {\n",
       "        vertical-align: top;\n",
       "    }\n",
       "\n",
       "    .dataframe thead th {\n",
       "        text-align: right;\n",
       "    }\n",
       "</style>\n",
       "<table border=\"1\" class=\"dataframe\">\n",
       "  <thead>\n",
       "    <tr style=\"text-align: right;\">\n",
       "      <th></th>\n",
       "      <th>nome</th>\n",
       "      <th>subprefeitura</th>\n",
       "      <th>regiao_adm</th>\n",
       "    </tr>\n",
       "  </thead>\n",
       "  <tbody>\n",
       "    <tr>\n",
       "      <th>0</th>\n",
       "      <td>Anil</td>\n",
       "      <td>Barra e Jacarepaguá</td>\n",
       "      <td>Jacarepaguá</td>\n",
       "    </tr>\n",
       "    <tr>\n",
       "      <th>1</th>\n",
       "      <td>Curicica</td>\n",
       "      <td>Barra e Jacarepaguá</td>\n",
       "      <td>Jacarepaguá</td>\n",
       "    </tr>\n",
       "    <tr>\n",
       "      <th>2</th>\n",
       "      <td>Freguesia (Jacarepaguá)</td>\n",
       "      <td>Barra e Jacarepaguá</td>\n",
       "      <td>Jacarepaguá</td>\n",
       "    </tr>\n",
       "    <tr>\n",
       "      <th>3</th>\n",
       "      <td>Gardênia Azul</td>\n",
       "      <td>Barra e Jacarepaguá</td>\n",
       "      <td>Jacarepaguá</td>\n",
       "    </tr>\n",
       "    <tr>\n",
       "      <th>4</th>\n",
       "      <td>Jacarepaguá</td>\n",
       "      <td>Barra e Jacarepaguá</td>\n",
       "      <td>Jacarepaguá</td>\n",
       "    </tr>\n",
       "    <tr>\n",
       "      <th>...</th>\n",
       "      <td>...</td>\n",
       "      <td>...</td>\n",
       "      <td>...</td>\n",
       "    </tr>\n",
       "    <tr>\n",
       "      <th>158</th>\n",
       "      <td>Lagoa</td>\n",
       "      <td>Zona Sul</td>\n",
       "      <td>Lagoa</td>\n",
       "    </tr>\n",
       "    <tr>\n",
       "      <th>159</th>\n",
       "      <td>Leblon</td>\n",
       "      <td>Zona Sul</td>\n",
       "      <td>Lagoa</td>\n",
       "    </tr>\n",
       "    <tr>\n",
       "      <th>160</th>\n",
       "      <td>São Conrado</td>\n",
       "      <td>Zona Sul</td>\n",
       "      <td>Lagoa</td>\n",
       "    </tr>\n",
       "    <tr>\n",
       "      <th>161</th>\n",
       "      <td>Vidigal</td>\n",
       "      <td>Zona Sul</td>\n",
       "      <td>Lagoa</td>\n",
       "    </tr>\n",
       "    <tr>\n",
       "      <th>162</th>\n",
       "      <td>Rocinha</td>\n",
       "      <td>Zona Sul</td>\n",
       "      <td>Rocinha</td>\n",
       "    </tr>\n",
       "  </tbody>\n",
       "</table>\n",
       "<p>163 rows × 3 columns</p>\n",
       "</div>"
      ],
      "text/plain": [
       "                        nome        subprefeitura   regiao_adm\n",
       "0                       Anil  Barra e Jacarepaguá  Jacarepaguá\n",
       "1                   Curicica  Barra e Jacarepaguá  Jacarepaguá\n",
       "2    Freguesia (Jacarepaguá)  Barra e Jacarepaguá  Jacarepaguá\n",
       "3              Gardênia Azul  Barra e Jacarepaguá  Jacarepaguá\n",
       "4                Jacarepaguá  Barra e Jacarepaguá  Jacarepaguá\n",
       "..                       ...                  ...          ...\n",
       "158                    Lagoa             Zona Sul        Lagoa\n",
       "159                   Leblon             Zona Sul        Lagoa\n",
       "160              São Conrado             Zona Sul        Lagoa\n",
       "161                  Vidigal             Zona Sul        Lagoa\n",
       "162                  Rocinha             Zona Sul      Rocinha\n",
       "\n",
       "[163 rows x 3 columns]"
      ]
     },
     "execution_count": 71,
     "metadata": {},
     "output_type": "execute_result"
    }
   ],
   "source": [
    "df_sub"
   ]
  },
  {
   "cell_type": "code",
   "execution_count": 8,
   "id": "c299078c",
   "metadata": {},
   "outputs": [],
   "source": [
    "# Pequenas manipulações no DataFrame\n",
    "df_sub['subprefeitura'] = df_sub['subprefeitura'].apply(lambda x: str(x).split('\\n')[0])\n",
    "df_sub['regiao_adm'] = df_sub['regiao_adm'].apply(lambda x: str(x).split('\\n')[0])"
   ]
  },
  {
   "cell_type": "code",
   "execution_count": 20,
   "id": "32554b31",
   "metadata": {},
   "outputs": [],
   "source": [
    "df_sub['nome'] = df_sub['nome'].apply(lambda x: str(x).title())"
   ]
  },
  {
   "cell_type": "markdown",
   "id": "c6326145",
   "metadata": {},
   "source": [
    "## 1.3. Coletando - idh e area"
   ]
  },
  {
   "cell_type": "code",
   "execution_count": 9,
   "id": "af623b4d",
   "metadata": {},
   "outputs": [],
   "source": [
    "# formatando em link completo\n",
    "list_url = []\n",
    "for value in list_links:\n",
    "    list_url.append('http://pt.wikipedia.org' + value)"
   ]
  },
  {
   "cell_type": "code",
   "execution_count": 10,
   "id": "9d084393",
   "metadata": {},
   "outputs": [],
   "source": [
    "# fazendo a coleta\n",
    "list_bairros = []\n",
    "\n",
    "for url in list_url:\n",
    "    page = requests.get(url)\n",
    "    soup = BeautifulSoup(page.text, 'html.parser')\n",
    "    \n",
    "    # Achando a tabela com todas as informacoes\n",
    "    table_infos = soup.find('table', class_='infobox')\n",
    "\n",
    "    # Separando as informacoes em blocos\n",
    "    # nome do bairro\n",
    "    if table_infos != None:\n",
    "        nome_bairro = table_infos.find('th').get_text()\n",
    "\n",
    "        dict_infos = {}\n",
    "        dict_infos['nome_bairro'] = nome_bairro\n",
    "        \n",
    "        # informacoes gerais\n",
    "        for value in table_infos.find_all('tr'):\n",
    "            index_info = value.find('td', attrs={'scope':'row'})\n",
    "            if index_info:\n",
    "                # valor da coluna\n",
    "                value_info = value.find_all('td')[1]\n",
    "\n",
    "                dict_infos[index_info.get_text()] = value_info.get_text()\n",
    "        \n",
    "        list_bairros.append(dict_infos)"
   ]
  },
  {
   "cell_type": "markdown",
   "id": "db168ada",
   "metadata": {},
   "source": [
    "# 2.0. Tratando os Dados"
   ]
  },
  {
   "cell_type": "code",
   "execution_count": 11,
   "id": "b9e6f054",
   "metadata": {},
   "outputs": [],
   "source": [
    "# df_bairros como um DataFrame\n",
    "df_bairros = pd.DataFrame(list_bairros)"
   ]
  },
  {
   "cell_type": "markdown",
   "id": "d869e6fd",
   "metadata": {},
   "source": [
    "## 2.1. Limpando o titulo das colunas"
   ]
  },
  {
   "cell_type": "code",
   "execution_count": 12,
   "id": "07b8bc92",
   "metadata": {},
   "outputs": [],
   "source": [
    "columns = df_bairros.columns.to_list()\n",
    "\n",
    "# limpeza das columns name\n",
    "\n",
    "new_list_columns = []\n",
    "for key, value in enumerate(columns):\n",
    "    # primeira limpeza -> '\\n'\n",
    "    limp_1 = value.split('\\n')[0]\n",
    "    \n",
    "    # segunda limpeza -> '• '\n",
    "    if '•' in limp_1:\n",
    "        limp_2 = limp_1.split('• ')[1]\n",
    "    else:\n",
    "        limp_2 = limp_1\n",
    "    \n",
    "    # terceira limpeza -> (ano)\n",
    "    if '(' in limp_2:\n",
    "        limp_3 = limp_2.split(' (')[0]\n",
    "    else:\n",
    "        limp_3 = limp_2\n",
    "        \n",
    "    if limp_3 not in new_list_columns:\n",
    "        new_list_columns.append(limp_3)\n",
    "    else:\n",
    "        new_list_columns.append(limp_3 + f'{key}')\n",
    "        \n",
    "# Mudando o nome das colunas\n",
    "df_bairros.columns = new_list_columns"
   ]
  },
  {
   "cell_type": "code",
   "execution_count": 13,
   "id": "75f20076",
   "metadata": {},
   "outputs": [],
   "source": [
    "# selecionando as colunas que irei usar\n",
    "aux = df_bairros.loc[:, ['nome_bairro', 'Área', 'Área total', 'IDH', 'IDH14']].copy()"
   ]
  },
  {
   "cell_type": "markdown",
   "id": "6d7c3802",
   "metadata": {},
   "source": [
    "## 2.2. Juntando valores que estão separados"
   ]
  },
  {
   "cell_type": "code",
   "execution_count": 14,
   "id": "909d9135",
   "metadata": {},
   "outputs": [],
   "source": [
    "# nome_bairro\n",
    "# Área + Área total -> area\n",
    "# IDH + IDH14 -> idh"
   ]
  },
  {
   "cell_type": "code",
   "execution_count": 15,
   "id": "b1c2564d",
   "metadata": {},
   "outputs": [],
   "source": [
    "# juntando as colunas area\n",
    "serie_area = aux['Área total']\n",
    "aux.loc[:, 'area'] = aux['Área'].fillna(serie_area).copy()\n",
    "\n",
    "# juntando as colunas idh\n",
    "serie_idh = aux['IDH14']\n",
    "aux.loc[:, 'idh'] = aux['IDH'].fillna(serie_idh).copy()"
   ]
  },
  {
   "cell_type": "code",
   "execution_count": 16,
   "id": "8c3fc67f",
   "metadata": {},
   "outputs": [],
   "source": [
    "# df_scrap final para fazer os devidos tratamentos\n",
    "df_scrap = aux.loc[:, ['nome_bairro', 'area', 'idh']].copy()"
   ]
  },
  {
   "cell_type": "markdown",
   "id": "9ec08731",
   "metadata": {},
   "source": [
    "## 2.3. Tratamentos"
   ]
  },
  {
   "cell_type": "markdown",
   "id": "84e67aac",
   "metadata": {},
   "source": [
    "### 2.3.1. Area"
   ]
  },
  {
   "cell_type": "code",
   "execution_count": 17,
   "id": "4b507639",
   "metadata": {},
   "outputs": [],
   "source": [
    "# tratando area\n",
    "\n",
    "# fazendo os tratamento necessários\n",
    "df_scrap['area'] = df_scrap['area'].apply(lambda x: str(x).replace('.', '').replace(' ', '').split('(')[0].replace(',', '.').replace('\\xa0', ''))\n",
    "\n",
    "# separando em duas colunas provisórias valores em hectares e valores em km\n",
    "df_scrap['area_h'] = df_scrap['area'].apply(lambda x: x.split('h')[0] if 'h' in str(x) else np.nan).astype('float64')\n",
    "df_scrap['area_k'] = df_scrap['area'].apply(lambda x: x.split('k')[0].split('[')[0] if 'k' in str(x) else np.nan).astype('float64') * 100\n",
    "\n",
    "# resultado final\n",
    "df_scrap['area_final'] = df_scrap['area_h'].fillna(df_scrap['area_k'])"
   ]
  },
  {
   "cell_type": "markdown",
   "id": "c39872b1",
   "metadata": {},
   "source": [
    "### 2.3.2. IDH"
   ]
  },
  {
   "cell_type": "code",
   "execution_count": 18,
   "id": "bd6a1e2f",
   "metadata": {},
   "outputs": [],
   "source": [
    "# tratando idh\n",
    "\n",
    "# fazendo os tratamentos necessários\n",
    "df_scrap['idh_final'] = df_scrap['idh'].apply(lambda x: str(x).split('[')[0].split(' ')[0].split('(')[0].split('\\n')[0].replace(',', '.')).astype('float64')"
   ]
  },
  {
   "cell_type": "markdown",
   "id": "c0d322a2",
   "metadata": {},
   "source": [
    "### 2.3.3. Nome Bairro"
   ]
  },
  {
   "cell_type": "code",
   "execution_count": 19,
   "id": "1d6282ba",
   "metadata": {},
   "outputs": [],
   "source": [
    "# tratando nome_bairro\n",
    "\n",
    "# fazendo os tratamentos necessários\n",
    "df_scrap['nome_bairro_final'] = df_scrap['nome_bairro'].apply(lambda x: str(x).split('(')[0].replace('\\n', '').split('\"')[0].rstrip().title())"
   ]
  },
  {
   "cell_type": "markdown",
   "id": "c0a70f61",
   "metadata": {},
   "source": [
    "### 2.3.4. DF Final"
   ]
  },
  {
   "cell_type": "code",
   "execution_count": 21,
   "id": "e580207a",
   "metadata": {},
   "outputs": [],
   "source": [
    "# df_result como DataFrame final\n",
    "df_result = df_scrap.loc[:, ['nome_bairro_final', 'area_final', 'idh_final']]\n",
    "df_result.columns = ['nome', 'area', 'idh']"
   ]
  },
  {
   "cell_type": "markdown",
   "id": "0f6efe05",
   "metadata": {},
   "source": [
    "## 2.4. Ultimas Manipulações"
   ]
  },
  {
   "cell_type": "code",
   "execution_count": 23,
   "id": "a6756180",
   "metadata": {},
   "outputs": [],
   "source": [
    "# Excluindo ascentos\n",
    "df_result['nome'] = df_result['nome'].apply(lambda x: unidecode(x)).copy()\n",
    "df_sub['nome'] = df_sub['nome'].apply(lambda x: unidecode(x)).copy()"
   ]
  },
  {
   "cell_type": "code",
   "execution_count": 24,
   "id": "f43ebda0",
   "metadata": {},
   "outputs": [],
   "source": [
    "# Algumas manipulacoes manuais para o merge\n",
    "df_result.loc[df_result['nome'] == 'Largo Do Anil', 'nome'] = 'Anil'\n",
    "df_result.loc[df_result['nome'] == 'Freguesia De Jacarepagua', 'nome'] = 'Freguesia (Jacarepagua)'\n",
    "df_result.loc[df_result['nome'] == 'Freguesia', 'nome'] = 'Freguesia (Ilha Do Governador)'\n",
    "df_sub.loc[df_sub['nome'] == 'Freguesia', 'nome'] = 'Freguesia (Ilha Do Governador)'\n",
    "df_result.loc[df_result['nome'] == 'Largo Do Visconde De Asseca', 'nome'] = 'Praca Seca'\n",
    "df_result.loc[df_result['nome'] == 'Largo Do Tanque', 'nome'] = 'Tanque'\n",
    "df_sub.loc[df_sub['nome'] == 'Cavalcante', 'nome'] = 'Cavalcanti'\n",
    "df_result.loc[df_result['nome'] == ' Parque Anchieta', 'nome'] = 'Parque Anchieta'\n",
    "df_result.loc[df_result['nome'] == 'Senador Augusto Vasconcelos', 'nome'] = 'Senador Vasconcelos'\n",
    "df_result.loc[df_result['nome'] == 'Aerodromo Campo Dos Afonsos Base Aerea Dos Afonsos Campo Dos Afonsos', 'nome'] = 'Campo Dos Afonsos'"
   ]
  },
  {
   "cell_type": "markdown",
   "id": "0d27e848",
   "metadata": {},
   "source": [
    "# 3.0. DataFrames Finais"
   ]
  },
  {
   "cell_type": "code",
   "execution_count": 27,
   "id": "d62d56b0",
   "metadata": {},
   "outputs": [],
   "source": [
    "df_result.to_csv('area_idh_data.csv', encoding='utf-8', index=False)"
   ]
  },
  {
   "cell_type": "code",
   "execution_count": 28,
   "id": "a0615b29",
   "metadata": {},
   "outputs": [],
   "source": [
    "df_sub.to_csv('sub_adm_data.csv', encoding='utf-8', index=False)"
   ]
  }
 ],
 "metadata": {
  "kernelspec": {
   "display_name": "Python 3",
   "language": "python",
   "name": "python3"
  },
  "language_info": {
   "codemirror_mode": {
    "name": "ipython",
    "version": 3
   },
   "file_extension": ".py",
   "mimetype": "text/x-python",
   "name": "python",
   "nbconvert_exporter": "python",
   "pygments_lexer": "ipython3",
   "version": "3.8.0"
  }
 },
 "nbformat": 4,
 "nbformat_minor": 5
}
