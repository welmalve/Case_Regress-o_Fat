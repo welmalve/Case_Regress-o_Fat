{
 "cells": [
  {
   "cell_type": "markdown",
   "id": "78718eef",
   "metadata": {},
   "source": [
    "# Test API"
   ]
  },
  {
   "cell_type": "code",
   "execution_count": 14,
   "id": "8a691c9d",
   "metadata": {},
   "outputs": [],
   "source": [
    "import json\n",
    "import requests\n",
    "import pandas as pd"
   ]
  },
  {
   "cell_type": "code",
   "execution_count": 26,
   "id": "5f335365",
   "metadata": {},
   "outputs": [],
   "source": [
    "def questions():\n",
    "    dict_vals = {}\n",
    "\n",
    "    nome = str(input('Ola, você quer fazer uma previsão de faturamento de qual bairro? '))\n",
    "\n",
    "    dict_vals['idh'] = float(input('IDH: '))\n",
    "    dict_vals['populacao'] = int(input('População: '))\n",
    "    dict_vals['total_domicilios'] = int(input('Total de Domicílios: '))\n",
    "    dict_vals['pop_ate9'] = int(input('População até 9 anos: '))\n",
    "    dict_vals['pop_de10a14'] = int(input('População de 10 a 14 anos: '))\n",
    "    dict_vals['pop_mais_de60'] = int(input('População com mais de 60 anos: '))\n",
    "    dict_vals['domicilios_a1'] = int(input('Quantidade de Domicilios A1: '))\n",
    "    dict_vals['domicilios_a2'] = int(input('Quantidade de Domicilios A2: '))\n",
    "    dict_vals['domicilios_b1'] = int(input('Quantidade de Domicilios B1: '))\n",
    "    dict_vals['domicilios_b2'] = int(input('Quantidade de Domicilios B2: '))\n",
    "    dict_vals['area'] = float(input('Area total: '))\n",
    "    dict_vals['renda_media'] = float(input('Renda Media por Domicilio: '))\n",
    "    \n",
    "    return nome, dict_vals"
   ]
  },
  {
   "cell_type": "markdown",
   "id": "a6a35d67",
   "metadata": {},
   "source": [
    "## 1.0. Definindo as variaveis"
   ]
  },
  {
   "cell_type": "code",
   "execution_count": 28,
   "id": "7d8fc3ec",
   "metadata": {},
   "outputs": [
    {
     "name": "stdout",
     "output_type": "stream",
     "text": [
      "Ola, você quer fazer uma previsão de faturamento de qual bairro? Acari\n",
      "IDH: 720\n",
      "População: 27564\n",
      "Total de Domicílios: 8451\n",
      "População até 9 anos: 5131\n",
      "População de 10 a 14 anos: 2188\n",
      "População com mais de 60 anos: 2397\n",
      "Quantidade de Domicilios A1: 0\n",
      "Quantidade de Domicilios A2: 0\n",
      "Quantidade de Domicilios B1: 82\n",
      "Quantidade de Domicilios B2: 506\n",
      "Area total: 160.550\n",
      "Renda Media por Domicilio: 931.000\n"
     ]
    }
   ],
   "source": [
    "name, vals = questions()"
   ]
  },
  {
   "cell_type": "code",
   "execution_count": 29,
   "id": "b9f280db",
   "metadata": {},
   "outputs": [],
   "source": [
    "data = json.dumps(vals)"
   ]
  },
  {
   "cell_type": "code",
   "execution_count": 30,
   "id": "2c7d8e4f",
   "metadata": {},
   "outputs": [
    {
     "data": {
      "text/plain": [
       "'{\"idh\": 720.0, \"populacao\": 27564, \"total_domicilios\": 8451, \"pop_ate9\": 5131, \"pop_de10a14\": 2188, \"pop_mais_de60\": 2397, \"domicilios_a1\": 0, \"domicilios_a2\": 0, \"domicilios_b1\": 82, \"domicilios_b2\": 506, \"area\": 160.55, \"renda_media\": 931.0}'"
      ]
     },
     "execution_count": 30,
     "metadata": {},
     "output_type": "execute_result"
    }
   ],
   "source": [
    "data"
   ]
  },
  {
   "cell_type": "markdown",
   "id": "276cfce4",
   "metadata": {},
   "source": [
    "# API Call"
   ]
  },
  {
   "cell_type": "code",
   "execution_count": 31,
   "id": "1537bdbb",
   "metadata": {},
   "outputs": [
    {
     "name": "stdout",
     "output_type": "stream",
     "text": [
      "Status Code 200\n"
     ]
    }
   ],
   "source": [
    "# Chamando a API\n",
    "\n",
    "url = 'http://geo-predict-model.herokuapp.com/geo/predict'\n",
    "header = {'Content-type': 'application/json'}\n",
    "data = data\n",
    "\n",
    "r = requests.post(url, data=data, headers=header)\n",
    "print('Status Code {}'.format(r.status_code))"
   ]
  },
  {
   "cell_type": "markdown",
   "id": "c8465672",
   "metadata": {},
   "source": [
    "# Resultado"
   ]
  },
  {
   "cell_type": "code",
   "execution_count": 32,
   "id": "a5724915",
   "metadata": {},
   "outputs": [],
   "source": [
    "d1 = pd.DataFrame(r.json())\n",
    "faturamento = d1['prediction'][0]"
   ]
  },
  {
   "cell_type": "code",
   "execution_count": 34,
   "id": "b492e5b0",
   "metadata": {},
   "outputs": [
    {
     "name": "stdout",
     "output_type": "stream",
     "text": [
      "O bairro Acari terá um faturamento de R$641,683.62\n"
     ]
    }
   ],
   "source": [
    "print(f'O bairro {name} terá um faturamento de R${faturamento:,.2f}')"
   ]
  }
 ],
 "metadata": {
  "kernelspec": {
   "display_name": "Python 3",
   "language": "python",
   "name": "python3"
  },
  "language_info": {
   "codemirror_mode": {
    "name": "ipython",
    "version": 3
   },
   "file_extension": ".py",
   "mimetype": "text/x-python",
   "name": "python",
   "nbconvert_exporter": "python",
   "pygments_lexer": "ipython3",
   "version": "3.8.0"
  }
 },
 "nbformat": 4,
 "nbformat_minor": 5
}
